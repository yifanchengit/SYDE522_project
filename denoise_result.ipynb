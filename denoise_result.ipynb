{
  "nbformat": 4,
  "nbformat_minor": 0,
  "metadata": {
    "colab": {
      "name": "Untitled1.ipynb",
      "provenance": []
    },
    "kernelspec": {
      "name": "python3",
      "display_name": "Python 3"
    },
    "language_info": {
      "name": "python"
    }
  },
  "cells": [
    {
      "cell_type": "code",
      "source": [
        "from skimage import io\n",
        "import skimage\n",
        "\n",
        "origin = io.imread(\"/content/GT_033.png\")\n",
        "noisy = skimage.util.random_noise(origin, mode='gaussian', var=0.025)\n",
        "io.imsave('Noisy_25_033.png', noisy)"
      ],
      "metadata": {
        "colab": {
          "base_uri": "https://localhost:8080/"
        },
        "id": "-hYxOB8albje",
        "outputId": "3b4a8e53-65dd-4317-b127-faac96368063"
      },
      "execution_count": null,
      "outputs": [
        {
          "output_type": "stream",
          "name": "stderr",
          "text": [
            "WARNING:root:Lossy conversion from float64 to uint8. Range [0, 1]. Convert image to uint8 prior to saving to suppress this warning.\n"
          ]
        }
      ]
    },
    {
      "cell_type": "code",
      "source": [
        "import numpy as np\n",
        "import cv2\n",
        "import math\n",
        "\n",
        "def psnr_calculate(img1, img2):\n",
        "\n",
        "    img1 = cv2.imread(img1)\n",
        "    img2 = cv2.imread(img2)\n",
        "\n",
        "\n",
        "    mse = np.mean( (img1/255. - img2/255.) ** 2 )\n",
        "    if mse < 1.0e-10:\n",
        "        return 100\n",
        "    PIXEL_MAX = 1\n",
        "    return 20 * math.log10(PIXEL_MAX / math.sqrt(mse))"
      ],
      "metadata": {
        "id": "if8FHShcbVFB"
      },
      "execution_count": null,
      "outputs": []
    },
    {
      "cell_type": "code",
      "source": [
        "print(\"Noisy image PSNR - Noise level 15: {}\".format(\"%.2f\" % psnr_calculate(\"/content/GT_001.png\", \"/content/Noisy_15_001.png\")))\n",
        "print(\"DnCNN image PSNR - Noise level 15: {}\".format(\"%.2f\" % psnr_calculate(\"/content/GT_001.png\", \"/content/dncnn_15_001.png\")))\n",
        "print(\"FFDNet image PSNR - Noise level 15: {}\".format(\"%.2f\" % psnr_calculate(\"/content/GT_001.png\", \"/content/ffdnet_15_001.png\")))\n",
        "\n",
        "print(\"Noisy image PSNR - Noise level 25: {}\".format(\"%.2f\" % psnr_calculate(\"/content/GT_034.png\", \"/content/Noisy_25_034.png\")))\n",
        "print(\"DnCNN image PSNR - Noise level 25: {}\".format(\"%.2f\" % psnr_calculate(\"/content/GT_034.png\", \"/content/dncnn_25_034.png\")))\n",
        "print(\"FFDNet image PSNR - Noise level 25: {}\".format(\"%.2f\" % psnr_calculate(\"/content/GT_034.png\", \"/content/ffdnet_25_034.png\")))\n",
        "\n",
        "print(\"Noisy image PSNR - Noise level 50: {}\".format(\"%.2f\" % psnr_calculate(\"/content/GT_068.png\", \"/content/Noisy_50_068.png\")))\n",
        "print(\"DnCNN image PSNR - Noise level 50: {}\".format(\"%.2f\" % psnr_calculate(\"/content/GT_068.png\", \"/content/dncnn_50_068.png\")))\n",
        "print(\"FFDNet image PSNR - Noise level 50: {}\".format(\"%.2f\" % psnr_calculate(\"/content/GT_068.png\", \"/content/ffdnet_50_068.png\")))"
      ],
      "metadata": {
        "colab": {
          "base_uri": "https://localhost:8080/"
        },
        "id": "r9I9eAUzbdw-",
        "outputId": "5d53b30d-aee8-494e-93be-0498d7c8defc"
      },
      "execution_count": null,
      "outputs": [
        {
          "output_type": "stream",
          "name": "stdout",
          "text": [
            "Noisy image PSNR - Noise level 15: 18.70\n",
            "DnCNN image PSNR - Noise level 15: 28.38\n",
            "FFDNet image PSNR - Noise level 15: 25.22\n",
            "Noisy image PSNR - Noise level 25: 16.83\n",
            "DnCNN image PSNR - Noise level 25: 33.49\n",
            "FFDNet image PSNR - Noise level 25: 33.18\n",
            "Noisy image PSNR - Noise level 50: 14.67\n",
            "DnCNN image PSNR - Noise level 50: 22.78\n",
            "FFDNet image PSNR - Noise level 50: 25.28\n"
          ]
        }
      ]
    },
    {
      "cell_type": "code",
      "source": [
        "print(\"Noisy image PSNR - Noise level 25: {}\".format(\"%.2f\" % psnr_calculate(\"/content/GT_033.png\", \"/content/Noisy_25_033.png\")))\n",
        "print(\"DnCNN image PSNR - Noise level 25: {}\".format(\"%.2f\" % psnr_calculate(\"/content/GT_033.png\", \"/content/dncnn_25_033.png\")))\n",
        "print(\"FFDNet image PSNR - Noise level 25: {}\".format(\"%.2f\" % psnr_calculate(\"/content/GT_033.png\", \"/content/ffdnet_25_033.png\")))\n",
        "print(\"Noisy2Void image PSNR - Noise level 25: {}\".format(\"%.2f\" % psnr_calculate(\"/content/GT_033.png\", \"/content/n2v_25_033.png\")))\n",
        "\n",
        "print(\"Noisy image PSNR - Noise level 25: {}\".format(\"%.2f\" % psnr_calculate(\"/content/GT_039.png\", \"/content/Noisy_25_039.png\")))\n",
        "print(\"DnCNN image PSNR - Noise level 25: {}\".format(\"%.2f\" % psnr_calculate(\"/content/GT_039.png\", \"/content/dncnn_25_039.png\")))\n",
        "print(\"FFDNet image PSNR - Noise level 25: {}\".format(\"%.2f\" % psnr_calculate(\"/content/GT_039.png\", \"/content/ffdnet_25_039.png\")))\n",
        "print(\"Noisy2Void image PSNR - Noise level 25: {}\".format(\"%.2f\" % psnr_calculate(\"/content/GT_039.png\", \"/content/n2v_25_039.png\")))"
      ],
      "metadata": {
        "colab": {
          "base_uri": "https://localhost:8080/"
        },
        "id": "ZAbu5D8Gm_lS",
        "outputId": "5aa3b970-7b63-438b-edb5-f2a958a75348"
      },
      "execution_count": null,
      "outputs": [
        {
          "output_type": "stream",
          "name": "stdout",
          "text": [
            "Noisy image PSNR - Noise level 25: 16.43\n",
            "DnCNN image PSNR - Noise level 25: 27.87\n",
            "FFDNet image PSNR - Noise level 25: 26.84\n",
            "Noisy2Void image PSNR - Noise level 25: 25.41\n",
            "Noisy image PSNR - Noise level 25: 16.26\n",
            "DnCNN image PSNR - Noise level 25: 33.00\n",
            "FFDNet image PSNR - Noise level 25: 32.40\n",
            "Noisy2Void image PSNR - Noise level 25: 32.15\n"
          ]
        }
      ]
    },
    {
      "cell_type": "code",
      "source": [
        "!zip fig.zip *.png"
      ],
      "metadata": {
        "colab": {
          "base_uri": "https://localhost:8080/"
        },
        "id": "_9KAknWKoZqj",
        "outputId": "24e5cb0c-baed-4f90-ad6a-ba1fbc000335"
      },
      "execution_count": null,
      "outputs": [
        {
          "output_type": "stream",
          "name": "stdout",
          "text": [
            "  adding: dncnn_15_001.png (deflated 0%)\n",
            "  adding: dncnn_25_033.png (deflated 0%)\n",
            "  adding: dncnn_25_034.png (deflated 1%)\n",
            "  adding: dncnn_25_039.png (deflated 0%)\n",
            "  adding: dncnn_50_068.png (deflated 0%)\n",
            "  adding: ffdnet_15_001.png (deflated 0%)\n",
            "  adding: ffdnet_25_033.png (deflated 0%)\n",
            "  adding: ffdnet_25_034.png (deflated 1%)\n",
            "  adding: ffdnet_25_039.png (deflated 0%)\n",
            "  adding: ffdnet_50_068.png (deflated 0%)\n",
            "  adding: GT_001.png (deflated 0%)\n",
            "  adding: GT_033.png (deflated 0%)\n",
            "  adding: GT_034.png (deflated 0%)\n",
            "  adding: GT_039.png (deflated 0%)\n",
            "  adding: GT_068.png (deflated 0%)\n",
            "  adding: n2v_25_033.png (deflated 0%)\n",
            "  adding: n2v_25_039.png (deflated 0%)\n",
            "  adding: Noisy_15_001.png (deflated 0%)\n",
            "  adding: Noisy_25_033.png (deflated 0%)\n",
            "  adding: Noisy_25_034.png (deflated 0%)\n",
            "  adding: Noisy_25_039.png (deflated 0%)\n",
            "  adding: Noisy_50_068.png (deflated 0%)\n"
          ]
        }
      ]
    }
  ]
}